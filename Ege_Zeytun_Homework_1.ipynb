{
 "cells": [
  {
   "cell_type": "markdown",
   "metadata": {},
   "source": [
    "*Ege Zeytun\\\n",
    "Homework 1 Week 2*"
   ]
  },
  {
   "cell_type": "markdown",
   "metadata": {
    "id": "QvmzB0Q8kaRx"
   },
   "source": [
    "### <font color = 'blue'> Question 1 </font>\n",
    "\n",
    "Write a code that modifies the given matrix M (with 3 rows and 4 columns), by swapping the (whole) columns 0 and 1.\n",
    "\n",
    "M = [[11, 12, 13, 14], [21, 22, 23, 24], [31, 32, 33, 34]]\n",
    "\n",
    "The matrix M above should become the matrix below;\n",
    "\n",
    "M = [[12, 11, 13, 14], [22, 21, 23, 24], [32, 31, 33, 34]]"
   ]
  },
  {
   "cell_type": "code",
   "execution_count": 79,
   "metadata": {},
   "outputs": [
    {
     "data": {
      "text/plain": [
       "[[12, 11, 13, 14], [22, 21, 23, 24], [32, 31, 33, 34]]"
      ]
     },
     "execution_count": 79,
     "metadata": {},
     "output_type": "execute_result"
    }
   ],
   "source": [
    "# 1.yol\n",
    "\n",
    "M1 = [[11, 12, 13 ,14], [21, 22, 23, 24], [31, 32, 33, 34]]\n",
    "\n",
    "M1[0][0:2] = [12, 11]\n",
    "M1[1][0:2] = [22, 21]\n",
    "M1[2][0:2] = [32, 31]\n",
    "\n",
    "M1"
   ]
  },
  {
   "cell_type": "code",
   "execution_count": 80,
   "metadata": {},
   "outputs": [
    {
     "data": {
      "text/plain": [
       "[[12, 11, 13, 14], [22, 21, 23, 24], [32, 31, 33, 34]]"
      ]
     },
     "execution_count": 80,
     "metadata": {},
     "output_type": "execute_result"
    }
   ],
   "source": [
    "# 2.yol\n",
    "\n",
    "M2 = [[11, 12, 13 ,14], [21, 22, 23, 24], [31, 32, 33, 34]]\n",
    "\n",
    "M2[0][0], M2[0][1], M2[1][0], M2[1][1], M2[2][0], M2[2][1] = M2[0][1], M2[0][0], M2[1][1], M2[1][0], M2[2][1], M2[2][0]\n",
    "\n",
    "M2"
   ]
  },
  {
   "cell_type": "markdown",
   "metadata": {
    "id": "NKXfnEDjkNEX"
   },
   "source": [
    "### <font color = 'blue'> Question 2 </font>\n",
    "\n",
    "Find the maximal element of the matrix M and print the row number and column number of the maximal element as a tuple.\n",
    "\n",
    "M = [[0, 3, 2, 4], [2, 7, 5, 9], [6, 1, 2, 3]]\n",
    "\n",
    "The output of the code should be row number and column number of the maximal element as a tuple.\n",
    "(1,3)"
   ]
  },
  {
   "cell_type": "code",
   "execution_count": 81,
   "metadata": {},
   "outputs": [
    {
     "name": "stdout",
     "output_type": "stream",
     "text": [
      "9\n"
     ]
    }
   ],
   "source": [
    "M3 = [[0, 3, 2, 4], [2, 7, 5, 9], [6, 1, 2, 3]]\n",
    "\n",
    "# Once matriksteki en buyuk elemani buluyorum.\n",
    "\n",
    "M3list = []\n",
    "\n",
    "for k in M3:\n",
    "    for i in k:\n",
    "        M3list.append(i)\n",
    "\n",
    "print(max(M3list))"
   ]
  },
  {
   "cell_type": "code",
   "execution_count": 82,
   "metadata": {},
   "outputs": [
    {
     "data": {
      "text/plain": [
       "[(1, 3)]"
      ]
     },
     "execution_count": 82,
     "metadata": {},
     "output_type": "execute_result"
    }
   ],
   "source": [
    "# Sonra matriksteki en buyuk elemanin yerini buluyorum.\n",
    "# M3 listesindeki en buyuk eleman 9'mus.\n",
    "\n",
    "maxval = 9\n",
    "\n",
    "[(index, row.index(maxval)) for index, row in enumerate(M3) if maxval in row]\n"
   ]
  },
  {
   "cell_type": "markdown",
   "metadata": {
    "id": "_900CukDkUnG"
   },
   "source": [
    "### <font color = 'blue'> Question 3 </font>\n",
    "\n",
    "Given two lists of numbers, count how many unique numbers occur in both of them.\n",
    "\n",
    "For example, on input: \n",
    "\n",
    "list_1 = [5, 3, 3, 10, 40]\n",
    "\n",
    "list_2 = [40, 3, 40, 1, 2]\n",
    "\n",
    "...the output must be 6."
   ]
  },
  {
   "cell_type": "code",
   "execution_count": 83,
   "metadata": {},
   "outputs": [
    {
     "name": "stdout",
     "output_type": "stream",
     "text": [
      "[5, 3, 3, 10, 40, 40, 3, 40, 1, 2]\n"
     ]
    }
   ],
   "source": [
    "list_1 = [5, 3, 3, 10, 40]\n",
    "list_2 = [40, 3, 40, 1, 2]\n",
    "\n",
    "# Isimin kolaylasmasi icin once iki listeyi birlestirecegim.\n",
    "\n",
    "list_3 = list_1 + list_2\n",
    "\n",
    "print(list_3)"
   ]
  },
  {
   "cell_type": "code",
   "execution_count": 84,
   "metadata": {},
   "outputs": [
    {
     "data": {
      "text/plain": [
       "{1, 2, 3, 5, 10, 40}"
      ]
     },
     "execution_count": 84,
     "metadata": {},
     "output_type": "execute_result"
    }
   ],
   "source": [
    "# Sonra list_3'teki her elemani bir kez saymak icin hepsini bir set'e aktaracagim.\n",
    "\n",
    "set1 = set(list_3)\n",
    "set1    "
   ]
  },
  {
   "cell_type": "code",
   "execution_count": 85,
   "metadata": {},
   "outputs": [
    {
     "data": {
      "text/plain": [
       "6"
      ]
     },
     "execution_count": 85,
     "metadata": {},
     "output_type": "execute_result"
    }
   ],
   "source": [
    "len(set1)"
   ]
  },
  {
   "cell_type": "markdown",
   "metadata": {
    "id": "n95IilrhlRXk"
   },
   "source": [
    "### <font color = 'blue'> Question 4 </font>\n",
    "\n",
    "We have a dictionary containing the math grades and the student number of 5 students. Calculate the mean of the grades and then print out the name of the students who are above and below that average (and if any, print that are equals to the mean as well).\\\n",
    "For example if the grades are:\n",
    "\n",
    "- Jane: 30\n",
    "- Pat: 40\n",
    "- Denis: 50\n",
    "- Max: 60\n",
    "- Lara: 70\n",
    "\n",
    "Then the mean is 50.\\\n",
    "Your program should print:\n",
    "\n",
    "\"Grade(s) of Jane and Pat are below the average\"\\\n",
    "\"Grade(s) of Denis is equal to the mean\"\\\n",
    "\"Grade(s) of Max and Lara are above the average\""
   ]
  },
  {
   "cell_type": "code",
   "execution_count": 86,
   "metadata": {
    "id": "TknZZpe2m42w"
   },
   "outputs": [
    {
     "data": {
      "text/plain": [
       "{'Jane': {'grade': 90, 'student_number': 4012},\n",
       " 'Pat': {'grade': 81, 'student_number': 4052},\n",
       " 'Denis': {'grade': 70, 'student_number': 4089},\n",
       " 'Max': {'grade': 72, 'student_number': 4322},\n",
       " 'Lara': {'grade': 74, 'student_number': 4042}}"
      ]
     },
     "execution_count": 86,
     "metadata": {},
     "output_type": "execute_result"
    }
   ],
   "source": [
    "# Solve this question using dictionary below\n",
    "students = {\"Jane\":{\"grade\":90,\"student_number\":4012}, \n",
    "          \"Pat\":{\"grade\":81,\"student_number\":4052},\n",
    "          \"Denis\":{\"grade\":70,\"student_number\":4089},\n",
    "          \"Max\":{\"grade\":72,\"student_number\":4322},\n",
    "          \"Lara\":{\"grade\":74,\"student_number\":4042}}\n",
    "\n",
    "students"
   ]
  },
  {
   "cell_type": "code",
   "execution_count": 87,
   "metadata": {},
   "outputs": [
    {
     "data": {
      "text/plain": [
       "[{'grade': 90, 'student_number': 4012},\n",
       " {'grade': 81, 'student_number': 4052},\n",
       " {'grade': 70, 'student_number': 4089},\n",
       " {'grade': 72, 'student_number': 4322},\n",
       " {'grade': 74, 'student_number': 4042}]"
      ]
     },
     "execution_count": 87,
     "metadata": {},
     "output_type": "execute_result"
    }
   ],
   "source": [
    "# Once ortalama sinav puanini hesaplamam lazim.\n",
    "# Bunun icin once dictionary icindeki ikinci dictionary'yi {\"grade, \"student_number} cikarip bir listeye aldim.\n",
    "\n",
    "l1 = []\n",
    "\n",
    "for key, value in students.items():\n",
    "       l1.append(value)\n",
    "    \n",
    "l1"
   ]
  },
  {
   "cell_type": "code",
   "execution_count": 88,
   "metadata": {},
   "outputs": [
    {
     "data": {
      "text/plain": [
       "[90, 81, 70, 72, 74]"
      ]
     },
     "execution_count": 88,
     "metadata": {},
     "output_type": "execute_result"
    }
   ],
   "source": [
    "# Simdi de l1 icindeki notlari ayri bir listede toplayacagim.\n",
    "\n",
    "allgrades = [i['grade'] for i in l1 if 'grade' in i]\n",
    "allgrades"
   ]
  },
  {
   "cell_type": "code",
   "execution_count": 89,
   "metadata": {},
   "outputs": [
    {
     "name": "stdout",
     "output_type": "stream",
     "text": [
      "Ortalama not 77.4\n"
     ]
    }
   ],
   "source": [
    "# Butun notlarin ortalamasini almak icin bir fonksiyon tanimliyorum.\n",
    "\n",
    "def grades_average(allgrades):\n",
    "    sum_num = 0\n",
    "    for t in allgrades:\n",
    "        sum_num = sum_num + t           \n",
    "\n",
    "    avg = sum_num/len(allgrades)\n",
    "    return avg\n",
    "\n",
    "print(\"Ortalama not\", grades_average(allgrades))"
   ]
  },
  {
   "cell_type": "code",
   "execution_count": 90,
   "metadata": {},
   "outputs": [],
   "source": [
    "avg = 77.4"
   ]
  },
  {
   "cell_type": "code",
   "execution_count": 91,
   "metadata": {},
   "outputs": [
    {
     "data": {
      "text/plain": [
       "['Jane', 'Pat', 'Denis', 'Max', 'Lara']"
      ]
     },
     "execution_count": 91,
     "metadata": {},
     "output_type": "execute_result"
    }
   ],
   "source": [
    "# Simdi de ogrencilerin ortalama altinda kalip kalmadigini ogrenecegim.\n",
    "# Once dictionary icindeki ogrencileri bir listeye aliyorum.\n",
    "\n",
    "l2 = []\n",
    "\n",
    "for key, value in students.items():\n",
    "       l2.append(key)\n",
    "    \n",
    "l2"
   ]
  },
  {
   "cell_type": "code",
   "execution_count": 92,
   "metadata": {},
   "outputs": [],
   "source": [
    "zipped = dict(zip(l2, allgrades))"
   ]
  },
  {
   "cell_type": "code",
   "execution_count": 93,
   "metadata": {},
   "outputs": [
    {
     "data": {
      "text/plain": [
       "{'Jane': 90, 'Pat': 81, 'Denis': 70, 'Max': 72, 'Lara': 74}"
      ]
     },
     "execution_count": 93,
     "metadata": {},
     "output_type": "execute_result"
    }
   ],
   "source": [
    "zipped"
   ]
  },
  {
   "cell_type": "code",
   "execution_count": 94,
   "metadata": {},
   "outputs": [],
   "source": [
    "aboveavg = []\n",
    "onavg = []\n",
    "belowavg = []\n",
    "\n",
    "for key in zipped:\n",
    "    if  zipped[key]> avg:\n",
    "        aboveavg.append(key)\n",
    "    elif zipped[key] == avg:\n",
    "        onavg.append(key)\n",
    "    else:\n",
    "        belowavg.append(key)"
   ]
  },
  {
   "cell_type": "code",
   "execution_count": 95,
   "metadata": {},
   "outputs": [
    {
     "data": {
      "text/plain": [
       "['Jane', 'Pat']"
      ]
     },
     "execution_count": 95,
     "metadata": {},
     "output_type": "execute_result"
    }
   ],
   "source": [
    "aboveavg"
   ]
  },
  {
   "cell_type": "code",
   "execution_count": 96,
   "metadata": {},
   "outputs": [
    {
     "data": {
      "text/plain": [
       "[]"
      ]
     },
     "execution_count": 96,
     "metadata": {},
     "output_type": "execute_result"
    }
   ],
   "source": [
    "onavg"
   ]
  },
  {
   "cell_type": "code",
   "execution_count": 97,
   "metadata": {},
   "outputs": [
    {
     "data": {
      "text/plain": [
       "['Denis', 'Max', 'Lara']"
      ]
     },
     "execution_count": 97,
     "metadata": {},
     "output_type": "execute_result"
    }
   ],
   "source": [
    "belowavg"
   ]
  },
  {
   "cell_type": "code",
   "execution_count": 98,
   "metadata": {},
   "outputs": [
    {
     "name": "stdout",
     "output_type": "stream",
     "text": [
      "Grade(s) of ['Jane', 'Pat'] are above the average.\n",
      "Grade(s) of ['Denis', 'Max', 'Lara'] are below the average.\n"
     ]
    }
   ],
   "source": [
    "print(f\"Grade(s) of {aboveavg} are above the average.\")\n",
    "print(f\"Grade(s) of {belowavg} are below the average.\")"
   ]
  },
  {
   "cell_type": "markdown",
   "metadata": {
    "id": "hYUbia7pmmot"
   },
   "source": [
    "### <font color = 'blue'> Question 5 </font>\n",
    "\n",
    "A theatre sells batches of 1 to 4 tickets per sale (if available). Initially there are 200 tickets. Write a Python program that repeatedly tells the user,\n",
    "- how many tickets are left\n",
    "- how many tickets the user wants to buy\n",
    "- minimum and maximum numbers to buy\n",
    "- reads the user's input. \n",
    "\n",
    "This continues until all tickets have been sold. At the end, the program prints how many sales transactions have been performed. For example, we might have the following interaction:\n",
    "\n",
    "\n",
    "200 tickets remaining\\\n",
    "How many do you want to buy?\\\n",
    "Minimum 1, maximum 4\\\n",
    "3\n",
    "\n",
    "197 tickets remaining\\\n",
    "How many do you want to buy?\\\n",
    "Minimum 1, maximum 4\\\n",
    "4\n",
    "\n",
    "(...)\n",
    "\n",
    "2 tickets remaining\\\n",
    "How many do you want to buy?\\\n",
    "Minimum 1, maximum 2\\\n",
    "2\n",
    "\n",
    "86 sales transactions\n",
    "\n",
    "\n",
    "(You may assume that the user enters the data correctly, i.e., all values are integers between the current minimum and maximum numbers they may buy.)"
   ]
  },
  {
   "cell_type": "code",
   "execution_count": null,
   "metadata": {},
   "outputs": [],
   "source": [
    "## Once 12 gibi kucuk bir sayiyla programin calisip calismadigini test edecegim. \n",
    "## Basarili olursa baslangictaki bilet sayisini 200'e cikaracagim.\n",
    "\n",
    "numtickets = 12\n",
    "numtrans = 0\n",
    "\n",
    "while numtickets > 0:\n",
    "    \n",
    "    input1 = int(input(\"Tickets remaining: %d. How many tickets would you like to buy?: \" %numtickets))\n",
    "    \n",
    "    if input1 > 4:\n",
    "        print(\"You can only buy up to 4 tickets.\")\n",
    "        continue\n",
    "        \n",
    "    else:\n",
    "        \n",
    "        if input1 > numtickets:\n",
    "            print(\"You can only buy up to %d ticket(s).\" %numtickets)\n",
    "        \n",
    "        else: \n",
    "            numtickets -= input1\n",
    "            numtrans += 1\n",
    "\n",
    "print(\"Tickets are sold out. There have been %d transactions.\" %numtrans)"
   ]
  },
  {
   "cell_type": "code",
   "execution_count": 99,
   "metadata": {},
   "outputs": [],
   "source": [
    "## Denemelerim sonucu asagidaki output'lari aldim:\n",
    "##\n",
    "## Tickets remaining: 12. How many tickets would you like to buy?:  12\n",
    "## You can only buy up to 4 tickets.\n",
    "## Tickets remaining: 12. How many tickets would you like to buy?:  4\n",
    "## Tickets remaining: 8. How many tickets would you like to buy?:  5\n",
    "## You can only buy up to 4 tickets.\n",
    "## Tickets remaining: 8. How many tickets would you like to buy?:  4\n",
    "## Tickets remaining: 4. How many tickets would you like to buy?:  3\n",
    "## Tickets remaining: 1. How many tickets would you like to buy?:  2\n",
    "## You can only buy up to 1 ticket(s).\n",
    "## Tickets remaining: 1. How many tickets would you like to buy?:  1\n",
    "##\n",
    "## Tickets are sold out. There have been 4 transactions."
   ]
  },
  {
   "cell_type": "code",
   "execution_count": null,
   "metadata": {},
   "outputs": [],
   "source": [
    "## Programim basarili. Simdi baslangic bilet sayisini 200'e cekecegim.\n",
    "\n",
    "numtickets1 = 200\n",
    "numtrans1 = 0\n",
    "\n",
    "while numtickets1 > 0:\n",
    "    \n",
    "    input2 = int(input(\"Tickets remaining: %d. How many tickets would you like to buy?: \" %numtickets1))\n",
    "    \n",
    "    if input2 > 4:\n",
    "        print(\"You can only buy up to 4 tickets.\")\n",
    "        continue\n",
    "        \n",
    "    else:\n",
    "        \n",
    "        if input2 > numtickets1:\n",
    "            print(\"You can only buy up to %d ticket(s).\" %numtickets1)\n",
    "        \n",
    "        else: \n",
    "            numtickets1 -= input2\n",
    "            numtrans1 += 1\n",
    "\n",
    "print(\"Tickets are sold out. There have been %d transactions.\" %numtrans1)"
   ]
  }
 ],
 "metadata": {
  "colab": {
   "name": "2. Hafta-Ödev.ipynb",
   "provenance": []
  },
  "kernelspec": {
   "display_name": "Python 3",
   "language": "python",
   "name": "python3"
  },
  "language_info": {
   "codemirror_mode": {
    "name": "ipython",
    "version": 3
   },
   "file_extension": ".py",
   "mimetype": "text/x-python",
   "name": "python",
   "nbconvert_exporter": "python",
   "pygments_lexer": "ipython3",
   "version": "3.8.3"
  }
 },
 "nbformat": 4,
 "nbformat_minor": 4
}
