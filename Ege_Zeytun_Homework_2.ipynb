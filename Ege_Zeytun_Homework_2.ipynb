{
 "cells": [
  {
   "cell_type": "markdown",
   "metadata": {},
   "source": [
    "*Ege Zeytun\\\n",
    "Homework 2 Week 3*`"
   ]
  },
  {
   "cell_type": "markdown",
   "metadata": {},
   "source": [
    "### <font color = 'blue'> Question 1 Power (Iterative) </font> \n",
    "\n",
    "Write a program that calculates n'th power of a given number **iteratively.**"
   ]
  },
  {
   "cell_type": "code",
   "execution_count": 24,
   "metadata": {
    "jupyter": {
     "source_hidden": true
    }
   },
   "outputs": [],
   "source": [
    "def iter_power(): # It should return x^n & you cannot use x**n for this problem.\n",
    "    x = int(input(\"What's the base number?: \"))\n",
    "    n = int(input(\"What's the power number?: \"))\n",
    "    \n",
    "    result = 1\n",
    "    \n",
    "    for i in range(n):\n",
    "        result = x*result\n",
    "    \n",
    "    return result"
   ]
  },
  {
   "cell_type": "code",
   "execution_count": 25,
   "metadata": {},
   "outputs": [
    {
     "name": "stdin",
     "output_type": "stream",
     "text": [
      "What's the base number?:  5\n",
      "What's the power number?:  3\n"
     ]
    },
    {
     "data": {
      "text/plain": [
       "125"
      ]
     },
     "execution_count": 25,
     "metadata": {},
     "output_type": "execute_result"
    }
   ],
   "source": [
    "iter_power()"
   ]
  },
  {
   "cell_type": "markdown",
   "metadata": {},
   "source": [
    "### <font color = 'blue'> Question 2 Power (Recursive) </font>\n",
    "\n",
    "Write a program that calculates n'th power of a given number **recursively.**"
   ]
  },
  {
   "cell_type": "code",
   "execution_count": 31,
   "metadata": {},
   "outputs": [
    {
     "name": "stdin",
     "output_type": "stream",
     "text": [
      "What's the base number?  90\n",
      "What's the power number?  2\n"
     ]
    },
    {
     "data": {
      "text/plain": [
       "8100"
      ]
     },
     "execution_count": 31,
     "metadata": {},
     "output_type": "execute_result"
    }
   ],
   "source": [
    "def recur_power(x, n):\n",
    "    if n == 0:\n",
    "        return 1\n",
    "    \n",
    "    else:\n",
    "        return x * recur_power(x, n - 1)\n",
    "    \n",
    "x = int(input(\"What's the base number? \"))\n",
    "n = int(input(\"What's the power number? \"))\n",
    "\n",
    "recur_power(x, n)"
   ]
  },
  {
   "cell_type": "markdown",
   "metadata": {},
   "source": [
    "### <font color = 'blue'> Question 3 Key with the Maximum Number of Values </font>\n",
    "\n",
    "Given dictionary d, return a key that has a maximum value associated with it. For example if d = {\"a\":[1,2,3], \"b\":[45,43,21,23], \"c\":[3,4,5]}, it should return \"b\"."
   ]
  },
  {
   "cell_type": "code",
   "execution_count": 42,
   "metadata": {},
   "outputs": [
    {
     "data": {
      "text/plain": [
       "'c'"
      ]
     },
     "execution_count": 42,
     "metadata": {},
     "output_type": "execute_result"
    }
   ],
   "source": [
    "d = {\"a\":[11, 22, 33], \"b\":[445, 43, 21, 23], \"c\":[3000, 4, 52]}\n",
    "\n",
    "def maxkey(d): \n",
    "     v = list(d.values())\n",
    "     k = list(d.keys())\n",
    "     return k[v.index(max(v))]\n",
    "\n",
    "maxkey(d)"
   ]
  },
  {
   "cell_type": "markdown",
   "metadata": {},
   "source": [
    "### <font color = 'blue'> Question 4 Fibonacci as Recursive Dictionary </font>\n",
    "\n",
    "fib(2) yi bir kere hesapladıysa başka bir function call'da bir daha hesaplamasın değerini dictionaryden bulup koysun gibi\n"
   ]
  },
  {
   "cell_type": "code",
   "execution_count": 107,
   "metadata": {},
   "outputs": [],
   "source": [
    "fibd = {0:1, 1:1, 2:2}\n",
    "\n",
    "def fib(x):   \n",
    "    if x in fibd.keys():\n",
    "        return fibd[x]\n",
    "    \n",
    "    else:\n",
    "        y = fib(x - 1) + fib (x - 2)\n",
    "        fibd[x] = y\n",
    "        return y\n",
    "        "
   ]
  }
 ],
 "metadata": {
  "kernelspec": {
   "display_name": "Python 3",
   "language": "python",
   "name": "python3"
  },
  "language_info": {
   "codemirror_mode": {
    "name": "ipython",
    "version": 3
   },
   "file_extension": ".py",
   "mimetype": "text/x-python",
   "name": "python",
   "nbconvert_exporter": "python",
   "pygments_lexer": "ipython3",
   "version": "3.8.3"
  }
 },
 "nbformat": 4,
 "nbformat_minor": 4
}
